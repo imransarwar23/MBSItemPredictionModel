{
 "cells": [
  {
   "cell_type": "code",
   "execution_count": 1,
   "id": "fa1acb3b",
   "metadata": {},
   "outputs": [],
   "source": [
    "from sentence_transformers import SentenceTransformer\n",
    "from sklearn.metrics.pairwise import cosine_similarity\n",
    "import numpy as np\n",
    "import pandas as pd\n",
    "\n"
   ]
  },
  {
   "cell_type": "code",
   "execution_count": 2,
   "id": "5428ac2f",
   "metadata": {},
   "outputs": [],
   "source": [
    "model = SentenceTransformer('all-MiniLM-L6-v2')"
   ]
  },
  {
   "cell_type": "code",
   "execution_count": 7,
   "id": "9f07b028",
   "metadata": {},
   "outputs": [],
   "source": [
    "mbs_df = pd.read_csv(\"mbs_items.csv\") "
   ]
  },
  {
   "cell_type": "code",
   "execution_count": 10,
   "id": "d1ffb04a",
   "metadata": {},
   "outputs": [
    {
     "data": {
      "text/html": [
       "<div>\n",
       "<style scoped>\n",
       "    .dataframe tbody tr th:only-of-type {\n",
       "        vertical-align: middle;\n",
       "    }\n",
       "\n",
       "    .dataframe tbody tr th {\n",
       "        vertical-align: top;\n",
       "    }\n",
       "\n",
       "    .dataframe thead th {\n",
       "        text-align: right;\n",
       "    }\n",
       "</style>\n",
       "<table border=\"1\" class=\"dataframe\">\n",
       "  <thead>\n",
       "    <tr style=\"text-align: right;\">\n",
       "      <th></th>\n",
       "      <th>ItemNum</th>\n",
       "      <th>Description</th>\n",
       "      <th>Fee</th>\n",
       "      <th>DerivedFee</th>\n",
       "    </tr>\n",
       "  </thead>\n",
       "  <tbody>\n",
       "    <tr>\n",
       "      <th>0</th>\n",
       "      <td>3</td>\n",
       "      <td>Professional attendance at consulting rooms (o...</td>\n",
       "      <td>20.05</td>\n",
       "      <td>NaN</td>\n",
       "    </tr>\n",
       "    <tr>\n",
       "      <th>1</th>\n",
       "      <td>4</td>\n",
       "      <td>Professional attendance by a general practitio...</td>\n",
       "      <td>NaN</td>\n",
       "      <td>The fee for item 3, plus $30.70 divided by the...</td>\n",
       "    </tr>\n",
       "    <tr>\n",
       "      <th>2</th>\n",
       "      <td>23</td>\n",
       "      <td>Professional attendance by a general practitio...</td>\n",
       "      <td>43.90</td>\n",
       "      <td>NaN</td>\n",
       "    </tr>\n",
       "    <tr>\n",
       "      <th>3</th>\n",
       "      <td>24</td>\n",
       "      <td>Professional attendance by a general practitio...</td>\n",
       "      <td>NaN</td>\n",
       "      <td>The fee for item 23, plus $30.70 divided by th...</td>\n",
       "    </tr>\n",
       "    <tr>\n",
       "      <th>4</th>\n",
       "      <td>36</td>\n",
       "      <td>Professional attendance by a general practitio...</td>\n",
       "      <td>84.90</td>\n",
       "      <td>NaN</td>\n",
       "    </tr>\n",
       "  </tbody>\n",
       "</table>\n",
       "</div>"
      ],
      "text/plain": [
       "  ItemNum                                        Description    Fee  \\\n",
       "0       3  Professional attendance at consulting rooms (o...  20.05   \n",
       "1       4  Professional attendance by a general practitio...    NaN   \n",
       "2      23  Professional attendance by a general practitio...  43.90   \n",
       "3      24  Professional attendance by a general practitio...    NaN   \n",
       "4      36  Professional attendance by a general practitio...  84.90   \n",
       "\n",
       "                                          DerivedFee  \n",
       "0                                                NaN  \n",
       "1  The fee for item 3, plus $30.70 divided by the...  \n",
       "2                                                NaN  \n",
       "3  The fee for item 23, plus $30.70 divided by th...  \n",
       "4                                                NaN  "
      ]
     },
     "execution_count": 10,
     "metadata": {},
     "output_type": "execute_result"
    }
   ],
   "source": [
    "mbs_df.head()"
   ]
  },
  {
   "cell_type": "code",
   "execution_count": 9,
   "id": "99bb70e1",
   "metadata": {},
   "outputs": [],
   "source": [
    "mbs_df[\"ItemNum\"] = mbs_df[\"ItemNum\"].astype(str)\n",
    "mbs_df[\"Description\"] = mbs_df[\"Description\"].astype(str)"
   ]
  },
  {
   "cell_type": "code",
   "execution_count": 11,
   "id": "206290d1",
   "metadata": {},
   "outputs": [
    {
     "name": "stdout",
     "output_type": "stream",
     "text": [
      "Encoding MBS item descriptions...\n"
     ]
    }
   ],
   "source": [
    "model = SentenceTransformer(\"all-MiniLM-L6-v2\") \n",
    "print(\"Encoding MBS item descriptions...\")\n",
    "item_embeddings = model.encode(mbs_df[\"Description\"].tolist(), normalize_embeddings=True)\n"
   ]
  },
  {
   "cell_type": "code",
   "execution_count": 14,
   "id": "04fea296",
   "metadata": {},
   "outputs": [
    {
     "name": "stdout",
     "output_type": "stream",
     "text": [
      "\n",
      "🎯 Top Recommended MBS Items:\n",
      "\n",
      "🔹 MBS Code: 2721\n",
      "📝 Description: Professional attendance at consulting rooms by a general practitioner, for providing focussed psychological strategies for assessed mental disorders by a general practitioner registered with the Chief Executive Medicare as meeting the credentialling requirements for provision of this service, and lasting at least 30 minutes, but less than 40 minutes\n",
      "💰 Fee: 108.2\n",
      "📉 Derived Fee: nan\n",
      "🔗 URL: https://www.mbsonline.gov.au/internet/mbsonline/publishing.nsf/Content/mbsitem-2721\n",
      "📊 Similarity Score: 0.5879999995231628\n",
      "------------------------------------------------------------------------------------------\n",
      "🔹 MBS Code: 2725\n",
      "📝 Description: Professional attendance at consulting rooms by a general practitioner, for providing focussed psychological strategies for assessed mental disorders by a general practitioner registered with the Chief Executive Medicare as meeting the credentialling requirements for provision of this service, and lasting at least 40 minutes\n",
      "💰 Fee: 154.85\n",
      "📉 Derived Fee: nan\n",
      "🔗 URL: https://www.mbsonline.gov.au/internet/mbsonline/publishing.nsf/Content/mbsitem-2725\n",
      "📊 Similarity Score: 0.574999988079071\n",
      "------------------------------------------------------------------------------------------\n",
      "🔹 MBS Code: 10905\n",
      "📝 Description: REFERRED COMPREHENSIVE INITIAL CONSULTATION Professional attendance of more than 15 minutes duration, being the first in a course of attention, where the patient has been referred by another optometrist who is not associated with the optometrist to whom the patient is referred\n",
      "💰 Fee: 77.8\n",
      "📉 Derived Fee: nan\n",
      "🔗 URL: https://www.mbsonline.gov.au/internet/mbsonline/publishing.nsf/Content/mbsitem-10905\n",
      "📊 Similarity Score: 0.5740000009536743\n",
      "------------------------------------------------------------------------------------------\n",
      "🔹 MBS Code: 23\n",
      "📝 Description: Professional attendance by a general practitioner at consulting rooms (other than a service to which another item in this Schedule applies), lasting at least 6 minutes and less than 20 minutes and including any of the following that are clinically relevant:(a) taking a patient history;(b) performing a clinical examination;(c) arranging any necessary investigation;(d) implementing a management plan;(e) providing appropriate preventive health care;for one or more health-related issues, with appropriate documentation\n",
      "💰 Fee: 43.9\n",
      "📉 Derived Fee: nan\n",
      "🔗 URL: https://www.mbsonline.gov.au/internet/mbsonline/publishing.nsf/Content/mbsitem-23\n",
      "📊 Similarity Score: 0.5630000233650208\n",
      "------------------------------------------------------------------------------------------\n",
      "🔹 MBS Code: 5020\n",
      "📝 Description: Professional attendance by a general practitioner at consulting rooms (other than a service to which another item in this Schedule applies), lasting at least 6 minutes and less than 20 minutes and including any of the following that are clinically relevant:(a) taking a patient history;(b) performing a clinical examination;(c) arranging any necessary investigation;(d) implementing a management plan;(e) providing appropriate preventive health care;for one or more health-related issues, with appropriate documentation\n",
      "💰 Fee: 57.15\n",
      "📉 Derived Fee: nan\n",
      "🔗 URL: https://www.mbsonline.gov.au/internet/mbsonline/publishing.nsf/Content/mbsitem-5020\n",
      "📊 Similarity Score: 0.5630000233650208\n",
      "------------------------------------------------------------------------------------------\n"
     ]
    }
   ],
   "source": [
    "\n",
    "# === Take user input ===\n",
    "query = input(\"\\n🗨️ Enter clinical query (e.g., 'follow-up consult after diabetes review'):\\n> \")\n",
    "query_embedding = model.encode(query, normalize_embeddings=True)\n",
    "\n",
    "# === Compute similarities ===\n",
    "similarities = cosine_similarity([query_embedding], item_embeddings)[0]\n",
    "top_indices = np.argsort(similarities)[::-1][:5]\n",
    "\n",
    "# === Display top matches ===\n",
    "print(\"\\n🎯 Top Recommended MBS Items:\\n\")\n",
    "for idx in top_indices:\n",
    "    row = mbs_df.iloc[idx]\n",
    "    code = row[\"ItemNum\"]\n",
    "    description = row[\"Description\"]\n",
    "    fee = row[\"Fee\"]\n",
    "    derived_fee = row[\"DerivedFee\"]\n",
    "    url = f\"https://www.mbsonline.gov.au/internet/mbsonline/publishing.nsf/Content/mbsitem-{code}\"\n",
    "    score = round(similarities[idx], 3)\n",
    "\n",
    "    print(f\"🔹 MBS Code: {code}\")\n",
    "    print(f\"📝 Description: {description}\")\n",
    "    print(f\"💰 Fee: {fee}\")\n",
    "    print(f\"📉 Derived Fee: {derived_fee}\")\n",
    "    print(f\"🔗 URL: {url}\")\n",
    "    print(f\"📊 Similarity Score: {score}\")\n",
    "    print(\"-\" * 90)"
   ]
  }
 ],
 "metadata": {
  "kernelspec": {
   "display_name": "base",
   "language": "python",
   "name": "python3"
  },
  "language_info": {
   "codemirror_mode": {
    "name": "ipython",
    "version": 3
   },
   "file_extension": ".py",
   "mimetype": "text/x-python",
   "name": "python",
   "nbconvert_exporter": "python",
   "pygments_lexer": "ipython3",
   "version": "3.12.7"
  }
 },
 "nbformat": 4,
 "nbformat_minor": 5
}
